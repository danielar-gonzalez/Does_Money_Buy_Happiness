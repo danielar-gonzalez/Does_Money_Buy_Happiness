{
  "nbformat": 4,
  "nbformat_minor": 0,
  "metadata": {
    "colab": {
      "provenance": []
    },
    "kernelspec": {
      "name": "python3",
      "display_name": "Python 3"
    },
    "language_info": {
      "name": "python"
    }
  },
  "cells": [
    {
      "cell_type": "markdown",
      "source": [
        "#**Does_Money_Buy_Happiness**"
      ],
      "metadata": {
        "id": "YISjXcYfCgrn"
      }
    },
    {
      "cell_type": "markdown",
      "source": [
        "Se importaron los datos desde el archivo **\"Felicidad_vs_GDP.csv\"** al entorno de trabajo y se exploraron los países más felices y los que tienen el mayor GDP.\n",
        "\n",
        "Primero, se ordenó la base de datos de mayor a menor felicidad utilizando la función sort_values(). Esto permitió identificar los países con los niveles más altos de felicidad. Luego, se imprimieron las primeras 10 filas de la base de datos ordenada. Posteriormente, se repitió el proceso, pero esta vez ordenando de mayor a menor GDP, lo que permitió observar los países con los valores más altos de GDP. Al igual que con la felicidad, también se imprimieron las primeras 10 filas para poder revisarlas.\n"
      ],
      "metadata": {
        "id": "uTEumE_LDW8j"
      }
    },
    {
      "cell_type": "code",
      "source": [
        "import pandas as pd\n",
        "\n",
        "# Datos y ordenarlos\n",
        "data = pd.read_csv('Felicidad_vs_GDP.csv')\n",
        "happiness_data = data.sort_values(by='Felicidad', ascending=False)\n",
        "gdp_data = data.sort_values(by='GDP', ascending=False)\n",
        "\n",
        "# Mostrar datos\n",
        "print('Sorted by Happiness')\n",
        "print(happiness_data.head(10))\n",
        "print(\"\\n\")\n",
        "print('Sorted by GDP')\n",
        "print(gdp_data.head(10))\n"
      ],
      "metadata": {
        "colab": {
          "base_uri": "https://localhost:8080/"
        },
        "id": "fBQVBfejDjjV",
        "outputId": "fcf922ed-68e4-4a8d-a52f-9c335707e620"
      },
      "execution_count": 41,
      "outputs": [
        {
          "output_type": "stream",
          "name": "stdout",
          "text": [
            "Sorted by Happiness\n",
            "          Pais  Felicidad           GDP\n",
            "0      Finland     7.8210  2.718370e+11\n",
            "1      Denmark     7.6362  3.560850e+11\n",
            "2      Iceland     7.5575  2.171808e+10\n",
            "3  Switzerland     7.5116  7.522480e+11\n",
            "4  Netherlands     7.4149  9.138650e+11\n",
            "5   Luxembourg     7.4040  7.335313e+10\n",
            "6       Sweden     7.3843  5.414870e+11\n",
            "7       Norway     7.3651  3.621980e+11\n",
            "8       Israel     7.3638  4.071010e+11\n",
            "9  New Zealand     7.1998  2.117350e+11\n",
            "\n",
            "\n",
            "Sorted by GDP\n",
            "               Pais  Felicidad           GDP\n",
            "15    United States     6.9768  2.089370e+13\n",
            "70            China     5.5853  1.468770e+13\n",
            "52            Japan     6.0389  5.040110e+12\n",
            "13          Germany     7.0341  3.846410e+12\n",
            "16   United Kingdom     6.9425  2.756900e+12\n",
            "130           India     3.7771  2.667690e+12\n",
            "19           France     6.6867  2.630320e+12\n",
            "29            Italy     6.4667  1.892570e+12\n",
            "14           Canada     7.0251  1.645420e+12\n",
            "57      South Korea     5.9351  1.637900e+12\n"
          ]
        }
      ]
    },
    {
      "cell_type": "markdown",
      "source": [
        "Se transformó el **GDP** a escala logarítmica usando el logaritmo base 10. Luego, se graficaron las observaciones en un **scatterplot**, con el **GDP** en su escala logarítmica como el eje **x** y el nivel de **felicidad** como el eje **y**. Los puntos se representaron con un color **lightblue** y bordes **cian** para facilitar la visualización de la relación entre ambas variables."
      ],
      "metadata": {
        "id": "BQuwLusiGfmO"
      }
    },
    {
      "cell_type": "code",
      "source": [
        "import numpy as np\n",
        "import matplotlib.pyplot as plt\n",
        "\n",
        "# Transformación del PIB (GDP) a escala logarítmica\n",
        "data_GDP_log = np.log10(data['GDP'])\n",
        "\n",
        "# Scatterplot\n",
        "plt.figure(figsize=(8, 3))\n",
        "plt.scatter(data_GDP_log, data['Felicidad'], c='lightblue', edgecolor='c', s=40)\n",
        "plt.xlabel('GDP (log scale)')\n",
        "plt.ylabel('Happiness')\n",
        "plt.title('Happiness vs GDP')\n",
        "plt.show()"
      ],
      "metadata": {
        "colab": {
          "base_uri": "https://localhost:8080/",
          "height": 333
        },
        "id": "bibAsCclGkrv",
        "outputId": "d7bd32bd-e18e-45d4-dec8-f9899438b1d8"
      },
      "execution_count": 24,
      "outputs": [
        {
          "output_type": "display_data",
          "data": {
            "text/plain": [
              "<Figure size 800x300 with 1 Axes>"
            ],
            "image/png": "[encoded data removed]"
          },
          "metadata": {}
        }
      ]
    },
    {
      "cell_type": "markdown",
      "source": [
        "> _A simple vista, se puede observar que, en general, existe una tendencia positiva: a medida que el GDP aumenta, también lo hace el nivel de felicidad. Esto sugiere que, en los datos representados, los países con un mayor Producto Interno Bruto tienden a reportar mayores niveles de felicidad._\n",
        "\n"
      ],
      "metadata": {
        "id": "DXKVBOepeJ05"
      }
    },
    {
      "cell_type": "markdown",
      "source": [
        "Se calcularon los **coeficientes** del modelo de regresión lineal simple de forma manual. Primero, se obtuvieron los promedios de GDP (en su forma logarítmica) y de felicidad. Luego, se calculó el coeficiente **𝐵1** y, finalmente, se calculó **𝐵0**. Ambos valores se imprimieron para conocer la pendiente y la intersección de la recta de regresión."
      ],
      "metadata": {
        "id": "hxifpctaLEaD"
      }
    },
    {
      "cell_type": "code",
      "source": [
        "# Calcular promedios\n",
        "x_mean = np.mean(data_GDP_log)\n",
        "y_mean = np.mean(data['Felicidad'])\n",
        "\n",
        "# Calcular coeficientes\n",
        "numerator = np.sum((data_GDP_log - x_mean) * (data['Felicidad'] - y_mean))\n",
        "denominator = np.sum((data_GDP_log - x_mean) ** 2)\n",
        "B1 = numerator / denominator\n",
        "B0 = y_mean - (B1 * x_mean)\n",
        "\n",
        "# Mostrar resultados\n",
        "print(\"B1 =\", B1)\n",
        "print(\"B0 =\", B0)"
      ],
      "metadata": {
        "colab": {
          "base_uri": "https://localhost:8080/"
        },
        "id": "506tk0PzLJzL",
        "outputId": "9b8dea6e-602c-474e-d8ae-7307c35f2dee"
      },
      "execution_count": 25,
      "outputs": [
        {
          "output_type": "stream",
          "name": "stdout",
          "text": [
            "B1 = 0.628128465881041\n",
            "B0 = -1.3023500570747295\n"
          ]
        }
      ]
    },
    {
      "cell_type": "markdown",
      "source": [
        "Se realizó una nueva gráfica donde aparte de mostrar los resultados de la base de datos, se muestra la **línea** que representa el **modelo de regresión lineal simple**."
      ],
      "metadata": {
        "id": "S4GLaHdqMoSu"
      }
    },
    {
      "cell_type": "code",
      "source": [
        "# Scatterplot\n",
        "plt.figure(figsize=(8, 3))\n",
        "plt.scatter(data_GDP_log, data['Felicidad'], c='lightblue', edgecolor='c', s=40)\n",
        "plt.xlabel('GDP (log scale)')\n",
        "plt.ylabel('Happiness')\n",
        "plt.title('Happiness vs GDP')\n",
        "\n",
        "# Gráfica del modelo de regresión\n",
        "x = np.linspace(min(data_GDP_log), max(data_GDP_log), 100)\n",
        "y = B0 + B1 * x\n",
        "plt.plot(x, y, color='red', linewidth=2, alpha=0.75)\n",
        "plt.show()"
      ],
      "metadata": {
        "colab": {
          "base_uri": "https://localhost:8080/",
          "height": 333
        },
        "id": "EzXr0CHwMxVv",
        "outputId": "8ffe848c-f75d-4b2f-d6c8-eb7d3d9eea33"
      },
      "execution_count": 27,
      "outputs": [
        {
          "output_type": "display_data",
          "data": {
            "text/plain": [
              "<Figure size 800x300 with 1 Axes>"
            ],
            "image/png": "[encoded data removed]"
          },
          "metadata": {}
        }
      ]
    },
    {
      "cell_type": "markdown",
      "source": [
        "Se calculó el **RSS** del modelo."
      ],
      "metadata": {
        "id": "JFPJv5XrOJ8V"
      }
    },
    {
      "cell_type": "markdown",
      "source": [],
      "metadata": {
        "id": "LCYRjOUdDTyC"
      }
    },
    {
      "cell_type": "code",
      "source": [
        "# Cálculo del RSS\n",
        "RSS = np.sum((data['Felicidad'] - (B0 + B1 * data_GDP_log)) ** 2)\n",
        "print(\"RSS =\", RSS)"
      ],
      "metadata": {
        "colab": {
          "base_uri": "https://localhost:8080/"
        },
        "id": "9DrlkbJqOMps",
        "outputId": "3bf02c56-fd41-4b79-a0ae-aa6095ce7681"
      },
      "execution_count": 28,
      "outputs": [
        {
          "output_type": "stream",
          "name": "stdout",
          "text": [
            "RSS = 131.3738317732635\n"
          ]
        }
      ]
    },
    {
      "cell_type": "markdown",
      "source": [
        "Se usó la fórmula del error estándar de 𝛽1 para calcular la precisión de la pendiente de la regresión. Este cálculo tomó en cuenta la desviación estándar de los residuos y la varianza de los valores de 𝑥 (GDP). Con el error estándar obtenido, se determinó el intervalo de confianza de 𝛽1, el cual nos da un rango dentro del cual podemos estar seguros que se encuentra la pendiente verdadera.\n",
        "Luego, se verificó si el intervalo de confianza de 𝛽1 incluía el valor cero. Si no lo incluía, se concluyó que la relación entre la felicidad y el GDP era significativa. Además, si el valor p resultó menor a 0.05, la asociación también se consideró estadísticamente significativa.Un valor p bajo indica que es poco probable que el efecto observado se deba al azar."
      ],
      "metadata": {
        "id": "4HxBP2WxOV1x"
      }
    },
    {
      "cell_type": "code",
      "source": [
        "# Error estándar\n",
        "n = len(data_GDP_log)\n",
        "SE = np.sqrt(RSS / ((n - 2)* sum((data_GDP_log-x_mean)**2)))\n",
        "print(\"SE =\", SE)\n",
        "\n",
        "import numpy as np\n",
        "from scipy.stats import t\n",
        "\n",
        "# Intervalo de confianza\n",
        "alpha = 0.05\n",
        "t_crit = t.ppf(1 - alpha / 2, n - 2)  # Valor crítico t\n",
        "lower_bound = B1 - t_crit * SE\n",
        "upper_bound = B1 + t_crit * SE\n",
        "print(\"Intervalo de confianza para β̂1: [\", lower_bound, \",\", upper_bound, \"]\")\n",
        "\n",
        "# Prueba de significancia\n",
        "t_stat = B1 / SE  # Estadístico t\n",
        "print(\"T stat =\",t_stat)\n",
        "p_value = 2 * (1 - t.cdf(abs(t_stat), n - 2))  # Valor p\n",
        "print(\"P value =\", p_value)\n",
        "\n",
        "if p_value < alpha:\n",
        "    print(f\"La asociación entre felicidad y GDP es significativa porque p = {p_value:.5f}, lo cual es menor que α = {alpha}.\")\n",
        "else:\n",
        "    print(f\"La asociación entre felicidad y GDP NO es significativa porque p = {p_value:.5f}, lo cual es mayor que α = {alpha}.\")\n"
      ],
      "metadata": {
        "colab": {
          "base_uri": "https://localhost:8080/"
        },
        "id": "eSvrOnDSOZum",
        "outputId": "e447d372-b0ab-4380-e441-02eab68ab7de"
      },
      "execution_count": 37,
      "outputs": [
        {
          "output_type": "stream",
          "name": "stdout",
          "text": [
            "SE = 0.09983378435340727\n",
            "Intervalo de confianza para β̂1: [ 0.43073933130733133 , 0.8255176004547506 ]\n",
            "T stat = 6.291742519320849\n",
            "P value = 3.825717964645037e-09\n",
            "La asociación entre felicidad y GDP es significativa porque p = 0.00000, lo cual es menor que α = 0.05.\n"
          ]
        }
      ]
    },
    {
      "cell_type": "markdown",
      "source": [
        "Se calculó el error estándar residual (RSE) usando la suma de los cuadrados de los residuos (RSS) y el número de observaciones. Luego, se calculó el valor de R^2 para ver qué tan bien el modelo explica la variabilidad de los datos. Ambos valores se imprimieron en la consola."
      ],
      "metadata": {
        "id": "DiElc8daVscx"
      }
    },
    {
      "cell_type": "code",
      "source": [
        "RSE = np.sqrt(RSS / (n - 2))\n",
        "print(\"RSE =\", RSE)\n",
        "r_squared = 1 - (RSS / np.sum((data['Felicidad'] - y_mean) ** 2))\n",
        "print(\"R^2 =\", r_squared)\n",
        "print(\"El valor de R^2 indica que el modelo explica solo el 22% de la variabilidad de los datos. Creo que el modelo no ajusta muy bien a los datos, ya que una gran parte de la variabilidad no está siendo explicada por el modelo.\")"
      ],
      "metadata": {
        "colab": {
          "base_uri": "https://localhost:8080/"
        },
        "id": "Q0ZcQIE-VuRA",
        "outputId": "044b0ff6-6872-426c-822c-3afc7a84f13e"
      },
      "execution_count": 43,
      "outputs": [
        {
          "output_type": "stream",
          "name": "stdout",
          "text": [
            "RSE = 0.9721807858537376\n",
            "R^2 = 0.22166361654970657\n",
            "El valor de R^2 indica que el modelo explica solo el 22% de la variabilidad de los datos. Creo que el modelo no ajusta muy bien a los datos, ya que una gran parte de la variabilidad no está siendo explicada por el modelo.\n"
          ]
        }
      ]
    },
    {
      "cell_type": "markdown",
      "source": [
        "Se usó la función **OLS()** de **statsmodels.api** para ajustar el modelo y verificar los resultados anteriores. Si el resumen mostraba un valor p de 0.000, se usó **results.pvalues** para obtener más cifras significativas. Además, como el RSE no se muestra por defecto, se calculó con **results.scale** y se le aplicó la raíz cuadrada para obtener el valor."
      ],
      "metadata": {
        "id": "Yfm4b4eCV4yw"
      }
    },
    {
      "cell_type": "code",
      "source": [
        "import statsmodels.api as smod\n",
        "model = smod.OLS(data['Felicidad'], smod.add_constant(data_GDP_log))\n",
        "results = model.fit()\n",
        "print(results.summary())\n",
        "print(\"P values:\", results.pvalues)\n",
        "print(\"RSE:\", results.scale**0.5)"
      ],
      "metadata": {
        "colab": {
          "base_uri": "https://localhost:8080/"
        },
        "id": "n-zUiYKcV8--",
        "outputId": "e07176a7-652c-4c35-9483-e463906b8f84"
      },
      "execution_count": 45,
      "outputs": [
        {
          "output_type": "stream",
          "name": "stdout",
          "text": [
            "                            OLS Regression Results                            \n",
            "==============================================================================\n",
            "Dep. Variable:              Felicidad   R-squared:                       0.222\n",
            "Model:                            OLS   Adj. R-squared:                  0.216\n",
            "Method:                 Least Squares   F-statistic:                     39.59\n",
            "Date:                Fri, 24 Jan 2025   Prob (F-statistic):           3.83e-09\n",
            "Time:                        04:17:26   Log-Likelihood:                -195.09\n",
            "No. Observations:                 141   AIC:                             394.2\n",
            "Df Residuals:                     139   BIC:                             400.1\n",
            "Df Model:                           1                                         \n",
            "Covariance Type:            nonrobust                                         \n",
            "==============================================================================\n",
            "                 coef    std err          t      P>|t|      [0.025      0.975]\n",
            "------------------------------------------------------------------------------\n",
            "const         -1.3024      1.094     -1.191      0.236      -3.465       0.860\n",
            "GDP            0.6281      0.100      6.292      0.000       0.431       0.826\n",
            "==============================================================================\n",
            "Omnibus:                        2.648   Durbin-Watson:                   0.455\n",
            "Prob(Omnibus):                  0.266   Jarque-Bera (JB):                2.523\n",
            "Skew:                          -0.326   Prob(JB):                        0.283\n",
            "Kurtosis:                       2.944   Cond. No.                         148.\n",
            "==============================================================================\n",
            "\n",
            "Notes:\n",
            "[1] Standard Errors assume that the covariance matrix of the errors is correctly specified.\n",
            "P values: const    2.357975e-01\n",
            "GDP      3.825718e-09\n",
            "dtype: float64\n",
            "RSE: 0.9721807858537376\n"
          ]
        }
      ]
    },
    {
      "cell_type": "markdown",
      "source": [
        "De este proyecto, puedo decir que el valor de R^2 muestra que el modelo solo explica el 22% de la variabilidad de los datos. Esto significa que el modelo no ajusta tan bien, porque una gran parte de la variabilidad no está siendo explicada. En cuanto a la pregunta **\"¿El dinero compra la felicidad?\"**, se puede decir que sí, ya que vemos que hay una relación entre las dos cosas. Sin embargo, hay muchos otros factores que también afectan la felicidad. **El dinero es importante, pero no es lo único que influye.**"
      ],
      "metadata": {
        "id": "JugjI7Ccjuo5"
      }
    }
  ]
}